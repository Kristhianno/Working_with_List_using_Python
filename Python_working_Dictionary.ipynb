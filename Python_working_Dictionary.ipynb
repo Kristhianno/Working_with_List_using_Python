{
 "cells": [
  {
   "cell_type": "markdown",
   "id": "4e5243a5",
   "metadata": {},
   "source": [
    "### Definição de Dicionários: É um objeto que representa uma coleção de um ou mais objetos, iniciados sempre por chaves {} e cada objeto possui sua chave e o seu valor da chave, por exemplo ' nome' : ' Efraim', e separados por vírgula."
   ]
  },
  {
   "cell_type": "markdown",
   "id": "f8570e4b",
   "metadata": {},
   "source": [
    "### Criando Dicionários"
   ]
  },
  {
   "cell_type": "code",
   "execution_count": 1,
   "id": "aa6fe9c9",
   "metadata": {},
   "outputs": [],
   "source": [
    "dict1 = {'chave1':'valor1', 'chave2':'valor2'}"
   ]
  },
  {
   "cell_type": "code",
   "execution_count": 2,
   "id": "e7dab6a7",
   "metadata": {},
   "outputs": [
    {
     "data": {
      "text/plain": [
       "{'chave1': 'valor1', 'chave2': 'valor2'}"
      ]
     },
     "execution_count": 2,
     "metadata": {},
     "output_type": "execute_result"
    }
   ],
   "source": [
    "dict1"
   ]
  },
  {
   "cell_type": "code",
   "execution_count": 3,
   "id": "8816ffba",
   "metadata": {},
   "outputs": [
    {
     "data": {
      "text/plain": [
       "dict"
      ]
     },
     "execution_count": 3,
     "metadata": {},
     "output_type": "execute_result"
    }
   ],
   "source": [
    "type(dict1)"
   ]
  },
  {
   "cell_type": "code",
   "execution_count": 4,
   "id": "502f2345",
   "metadata": {},
   "outputs": [
    {
     "data": {
      "text/plain": [
       "2"
      ]
     },
     "execution_count": 4,
     "metadata": {},
     "output_type": "execute_result"
    }
   ],
   "source": [
    "len(dict1)"
   ]
  },
  {
   "cell_type": "code",
   "execution_count": 5,
   "id": "c293568f",
   "metadata": {},
   "outputs": [],
   "source": [
    "dict2 = dict({'chave1':'valor1','chave2':'valor2' ,'chave3':'valor3'})"
   ]
  },
  {
   "cell_type": "code",
   "execution_count": 6,
   "id": "68841b9e",
   "metadata": {},
   "outputs": [
    {
     "data": {
      "text/plain": [
       "{'chave1': 'valor1', 'chave2': 'valor2', 'chave3': 'valor3'}"
      ]
     },
     "execution_count": 6,
     "metadata": {},
     "output_type": "execute_result"
    }
   ],
   "source": [
    "dict2"
   ]
  },
  {
   "cell_type": "code",
   "execution_count": 7,
   "id": "1f562308",
   "metadata": {},
   "outputs": [],
   "source": [
    "dict3 = dict(a = 1,\n",
    "             b = 2,\n",
    "             c = 3,\n",
    "             d = 4)"
   ]
  },
  {
   "cell_type": "code",
   "execution_count": 8,
   "id": "be633e92",
   "metadata": {},
   "outputs": [
    {
     "data": {
      "text/plain": [
       "{'a': 1, 'b': 2, 'c': 3, 'd': 4}"
      ]
     },
     "execution_count": 8,
     "metadata": {},
     "output_type": "execute_result"
    }
   ],
   "source": [
    "dict3"
   ]
  },
  {
   "cell_type": "code",
   "execution_count": 9,
   "id": "e57f5ca8",
   "metadata": {},
   "outputs": [],
   "source": [
    "dict4 = dict(zip(['chave1','chave2','chave3'],\n",
    "                 ['valor1','valor2','valor3']))"
   ]
  },
  {
   "cell_type": "code",
   "execution_count": 10,
   "id": "2f3dea0e",
   "metadata": {},
   "outputs": [
    {
     "data": {
      "text/plain": [
       "{'chave1': 'valor1', 'chave2': 'valor2', 'chave3': 'valor3'}"
      ]
     },
     "execution_count": 10,
     "metadata": {},
     "output_type": "execute_result"
    }
   ],
   "source": [
    "dict4"
   ]
  },
  {
   "cell_type": "markdown",
   "id": "4f58c2b3",
   "metadata": {},
   "source": [
    "### Acessando valores do Dicionário"
   ]
  },
  {
   "cell_type": "code",
   "execution_count": 11,
   "id": "de47f5ae",
   "metadata": {},
   "outputs": [
    {
     "data": {
      "text/plain": [
       "{'chave1': 'valor1', 'chave2': 'valor2'}"
      ]
     },
     "execution_count": 11,
     "metadata": {},
     "output_type": "execute_result"
    }
   ],
   "source": [
    "dict1"
   ]
  },
  {
   "cell_type": "code",
   "execution_count": 12,
   "id": "949ac5b2",
   "metadata": {},
   "outputs": [
    {
     "data": {
      "text/plain": [
       "'valor1'"
      ]
     },
     "execution_count": 12,
     "metadata": {},
     "output_type": "execute_result"
    }
   ],
   "source": [
    "dict1['chave1']"
   ]
  },
  {
   "cell_type": "code",
   "execution_count": 13,
   "id": "5f280fc3",
   "metadata": {},
   "outputs": [
    {
     "data": {
      "text/plain": [
       "'valor2'"
      ]
     },
     "execution_count": 13,
     "metadata": {},
     "output_type": "execute_result"
    }
   ],
   "source": [
    "dict1.get('chave2')"
   ]
  },
  {
   "cell_type": "code",
   "execution_count": 14,
   "id": "60a3dcec",
   "metadata": {},
   "outputs": [
    {
     "data": {
      "text/plain": [
       "' Não existe essa chave'"
      ]
     },
     "execution_count": 14,
     "metadata": {},
     "output_type": "execute_result"
    }
   ],
   "source": [
    "dict1.get('Chave1', ' Não existe essa chave')"
   ]
  },
  {
   "cell_type": "code",
   "execution_count": 15,
   "id": "4c74ccd4",
   "metadata": {},
   "outputs": [
    {
     "data": {
      "text/plain": [
       "'valor2'"
      ]
     },
     "execution_count": 15,
     "metadata": {},
     "output_type": "execute_result"
    }
   ],
   "source": [
    "dict1.get(list(dict1)[1])"
   ]
  },
  {
   "cell_type": "code",
   "execution_count": 16,
   "id": "a1ed21c4",
   "metadata": {},
   "outputs": [
    {
     "data": {
      "text/plain": [
       "{'chave1': 'valor1', 'chave2': 'valor2'}"
      ]
     },
     "execution_count": 16,
     "metadata": {},
     "output_type": "execute_result"
    }
   ],
   "source": [
    "dict1"
   ]
  },
  {
   "cell_type": "code",
   "execution_count": 17,
   "id": "d4ec6678",
   "metadata": {},
   "outputs": [
    {
     "name": "stdout",
     "output_type": "stream",
     "text": [
      "chave1 valor1\n",
      "chave2 valor2\n"
     ]
    }
   ],
   "source": [
    "for chave in dict1.keys():\n",
    "    print(chave, dict1[chave])"
   ]
  },
  {
   "cell_type": "code",
   "execution_count": 18,
   "id": "55cebba6",
   "metadata": {},
   "outputs": [
    {
     "name": "stdout",
     "output_type": "stream",
     "text": [
      "chave1 valor1\n",
      "chave2 valor2\n"
     ]
    }
   ],
   "source": [
    "for chave, valor in dict1.items():\n",
    "    print(chave, valor)"
   ]
  },
  {
   "cell_type": "markdown",
   "id": "87c45cf1",
   "metadata": {},
   "source": [
    "### Juntando Dicionários\n"
   ]
  },
  {
   "cell_type": "code",
   "execution_count": 19,
   "id": "f885f564",
   "metadata": {},
   "outputs": [
    {
     "data": {
      "text/plain": [
       "{'chave1': 'valor1', 'chave2': 'valor2'}"
      ]
     },
     "execution_count": 19,
     "metadata": {},
     "output_type": "execute_result"
    }
   ],
   "source": [
    "dict1"
   ]
  },
  {
   "cell_type": "code",
   "execution_count": 20,
   "id": "9f9e1a1c",
   "metadata": {},
   "outputs": [
    {
     "data": {
      "text/plain": [
       "{'chave1': 'valor1', 'chave2': 'valor2', 'chave3': 'valor3'}"
      ]
     },
     "execution_count": 20,
     "metadata": {},
     "output_type": "execute_result"
    }
   ],
   "source": [
    "dict2"
   ]
  },
  {
   "cell_type": "code",
   "execution_count": 21,
   "id": "058dc95b",
   "metadata": {},
   "outputs": [],
   "source": [
    "dict1.update(dict2) # juntando dicionarios com o update()"
   ]
  },
  {
   "cell_type": "code",
   "execution_count": 22,
   "id": "9f38b07d",
   "metadata": {},
   "outputs": [
    {
     "data": {
      "text/plain": [
       "{'chave1': 'valor1', 'chave2': 'valor2', 'chave3': 'valor3'}"
      ]
     },
     "execution_count": 22,
     "metadata": {},
     "output_type": "execute_result"
    }
   ],
   "source": [
    "dict1"
   ]
  },
  {
   "cell_type": "code",
   "execution_count": 23,
   "id": "f28cd872",
   "metadata": {},
   "outputs": [],
   "source": [
    "dict1 ['NOVA CHAVE'] = 1000"
   ]
  },
  {
   "cell_type": "code",
   "execution_count": 24,
   "id": "e13e3e5b",
   "metadata": {},
   "outputs": [
    {
     "data": {
      "text/plain": [
       "{'chave1': 'valor1',\n",
       " 'chave2': 'valor2',\n",
       " 'chave3': 'valor3',\n",
       " 'NOVA CHAVE': 1000}"
      ]
     },
     "execution_count": 24,
     "metadata": {},
     "output_type": "execute_result"
    }
   ],
   "source": [
    "dict1"
   ]
  },
  {
   "cell_type": "code",
   "execution_count": 25,
   "id": "9285ca0e",
   "metadata": {},
   "outputs": [],
   "source": [
    "dict1.update({'Outra Chave':'Outro valor'})"
   ]
  },
  {
   "cell_type": "code",
   "execution_count": 26,
   "id": "63babea6",
   "metadata": {},
   "outputs": [
    {
     "data": {
      "text/plain": [
       "{'chave1': 'valor1',\n",
       " 'chave2': 'valor2',\n",
       " 'chave3': 'valor3',\n",
       " 'NOVA CHAVE': 1000,\n",
       " 'Outra Chave': 'Outro valor'}"
      ]
     },
     "execution_count": 26,
     "metadata": {},
     "output_type": "execute_result"
    }
   ],
   "source": [
    "dict1"
   ]
  },
  {
   "cell_type": "code",
   "execution_count": 27,
   "id": "884e6309",
   "metadata": {},
   "outputs": [
    {
     "data": {
      "text/plain": [
       "{'chave1': 'valor1',\n",
       " 'chave2': 'valor2',\n",
       " 'chave3': 'valor3',\n",
       " 'a': 1,\n",
       " 'b': 2,\n",
       " 'c': 3,\n",
       " 'd': 4}"
      ]
     },
     "execution_count": 27,
     "metadata": {},
     "output_type": "execute_result"
    }
   ],
   "source": [
    "{**dict2, **dict3}"
   ]
  },
  {
   "cell_type": "markdown",
   "id": "6ea51c0f",
   "metadata": {},
   "source": [
    "### Verificando se valor pertence à chave"
   ]
  },
  {
   "cell_type": "code",
   "execution_count": 28,
   "id": "b78b2e1d",
   "metadata": {},
   "outputs": [
    {
     "data": {
      "text/plain": [
       "{'a': 1, 'b': 2, 'c': 3, 'd': 4}"
      ]
     },
     "execution_count": 28,
     "metadata": {},
     "output_type": "execute_result"
    }
   ],
   "source": [
    "dict3"
   ]
  },
  {
   "cell_type": "code",
   "execution_count": 29,
   "id": "54b13876",
   "metadata": {},
   "outputs": [
    {
     "data": {
      "text/plain": [
       "True"
      ]
     },
     "execution_count": 29,
     "metadata": {},
     "output_type": "execute_result"
    }
   ],
   "source": [
    "1 == dict3['a']"
   ]
  },
  {
   "cell_type": "code",
   "execution_count": 30,
   "id": "1d1ebdbd",
   "metadata": {},
   "outputs": [
    {
     "data": {
      "text/plain": [
       "False"
      ]
     },
     "execution_count": 30,
     "metadata": {},
     "output_type": "execute_result"
    }
   ],
   "source": [
    "0 == dict3['a']"
   ]
  },
  {
   "cell_type": "markdown",
   "id": "4468e2ae",
   "metadata": {},
   "source": [
    "### Métodos"
   ]
  },
  {
   "cell_type": "code",
   "execution_count": 31,
   "id": "79cfb228",
   "metadata": {},
   "outputs": [
    {
     "data": {
      "text/plain": [
       "{'a': 1, 'b': 2, 'c': 3, 'd': 4}"
      ]
     },
     "execution_count": 31,
     "metadata": {},
     "output_type": "execute_result"
    }
   ],
   "source": [
    "dict3"
   ]
  },
  {
   "cell_type": "code",
   "execution_count": 32,
   "id": "ba06ea05",
   "metadata": {},
   "outputs": [],
   "source": [
    "dict3.clear()"
   ]
  },
  {
   "cell_type": "code",
   "execution_count": 33,
   "id": "b237da27",
   "metadata": {},
   "outputs": [
    {
     "data": {
      "text/plain": [
       "{}"
      ]
     },
     "execution_count": 33,
     "metadata": {},
     "output_type": "execute_result"
    }
   ],
   "source": [
    "dict3"
   ]
  },
  {
   "cell_type": "code",
   "execution_count": 34,
   "id": "65bfdb38",
   "metadata": {},
   "outputs": [],
   "source": [
    "dict8 = dict3.copy()"
   ]
  },
  {
   "cell_type": "code",
   "execution_count": 35,
   "id": "a88337f6",
   "metadata": {},
   "outputs": [
    {
     "data": {
      "text/plain": [
       "{}"
      ]
     },
     "execution_count": 35,
     "metadata": {},
     "output_type": "execute_result"
    }
   ],
   "source": [
    "dict8"
   ]
  },
  {
   "cell_type": "code",
   "execution_count": 36,
   "id": "5c156b32",
   "metadata": {},
   "outputs": [
    {
     "data": {
      "text/plain": [
       "{'chave1': 'valor1', 'chave2': 'valor2', 'chave3': 'valor3'}"
      ]
     },
     "execution_count": 36,
     "metadata": {},
     "output_type": "execute_result"
    }
   ],
   "source": [
    "dict4"
   ]
  },
  {
   "cell_type": "code",
   "execution_count": 37,
   "id": "b4c6ea74",
   "metadata": {},
   "outputs": [
    {
     "data": {
      "text/plain": [
       "'valor1'"
      ]
     },
     "execution_count": 37,
     "metadata": {},
     "output_type": "execute_result"
    }
   ],
   "source": [
    "dict4.pop('chave1')"
   ]
  },
  {
   "cell_type": "code",
   "execution_count": 38,
   "id": "364f7126",
   "metadata": {},
   "outputs": [
    {
     "data": {
      "text/plain": [
       "{'chave2': 'valor2', 'chave3': 'valor3'}"
      ]
     },
     "execution_count": 38,
     "metadata": {},
     "output_type": "execute_result"
    }
   ],
   "source": [
    "dict4"
   ]
  },
  {
   "cell_type": "code",
   "execution_count": 39,
   "id": "e3e6292e",
   "metadata": {},
   "outputs": [
    {
     "data": {
      "text/plain": [
       "('chave3', 'valor3')"
      ]
     },
     "execution_count": 39,
     "metadata": {},
     "output_type": "execute_result"
    }
   ],
   "source": [
    "dict4.popitem()"
   ]
  },
  {
   "cell_type": "code",
   "execution_count": 40,
   "id": "6a1a981c",
   "metadata": {},
   "outputs": [
    {
     "data": {
      "text/plain": [
       "{'chave2': 'valor2'}"
      ]
     },
     "execution_count": 40,
     "metadata": {},
     "output_type": "execute_result"
    }
   ],
   "source": [
    "dict4"
   ]
  },
  {
   "cell_type": "code",
   "execution_count": null,
   "id": "1a08e775",
   "metadata": {},
   "outputs": [],
   "source": []
  }
 ],
 "metadata": {
  "kernelspec": {
   "display_name": "Python 3 (ipykernel)",
   "language": "python",
   "name": "python3"
  },
  "language_info": {
   "codemirror_mode": {
    "name": "ipython",
    "version": 3
   },
   "file_extension": ".py",
   "mimetype": "text/x-python",
   "name": "python",
   "nbconvert_exporter": "python",
   "pygments_lexer": "ipython3",
   "version": "3.9.12"
  }
 },
 "nbformat": 4,
 "nbformat_minor": 5
}
