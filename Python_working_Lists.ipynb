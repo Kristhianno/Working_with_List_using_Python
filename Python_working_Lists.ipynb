{
 "cells": [
  {
   "cell_type": "markdown",
   "id": "d3e6d237",
   "metadata": {},
   "source": [
    "### Definição de Listas: É um objeto que é representado por uma sequência de outros objetos e são separados por virgulas e  iniciados e finalizados por colchetes [ ]."
   ]
  },
  {
   "cell_type": "markdown",
   "id": "385cc2ce",
   "metadata": {},
   "source": [
    "#### Criando Listas"
   ]
  },
  {
   "cell_type": "code",
   "execution_count": 1,
   "id": "7049cd14",
   "metadata": {},
   "outputs": [],
   "source": [
    "lst = [1,2,3]"
   ]
  },
  {
   "cell_type": "code",
   "execution_count": 2,
   "id": "905ec739",
   "metadata": {},
   "outputs": [
    {
     "data": {
      "text/plain": [
       "[1, 2, 3]"
      ]
     },
     "execution_count": 2,
     "metadata": {},
     "output_type": "execute_result"
    }
   ],
   "source": [
    "lst"
   ]
  },
  {
   "cell_type": "code",
   "execution_count": 3,
   "id": "0abccf06",
   "metadata": {},
   "outputs": [
    {
     "data": {
      "text/plain": [
       "list"
      ]
     },
     "execution_count": 3,
     "metadata": {},
     "output_type": "execute_result"
    }
   ],
   "source": [
    "type(lst) ### type é um comando para saber o tipo do dado"
   ]
  },
  {
   "cell_type": "code",
   "execution_count": 4,
   "id": "aa08bfb7",
   "metadata": {},
   "outputs": [],
   "source": [
    "lst2 = list([1,2,3])"
   ]
  },
  {
   "cell_type": "code",
   "execution_count": 5,
   "id": "7832f442",
   "metadata": {},
   "outputs": [
    {
     "data": {
      "text/plain": [
       "[1, 2, 3]"
      ]
     },
     "execution_count": 5,
     "metadata": {},
     "output_type": "execute_result"
    }
   ],
   "source": [
    "lst2"
   ]
  },
  {
   "cell_type": "code",
   "execution_count": 6,
   "id": "12eb066b",
   "metadata": {},
   "outputs": [],
   "source": [
    "lst3 = list((1,2,3))"
   ]
  },
  {
   "cell_type": "code",
   "execution_count": 7,
   "id": "142cd66a",
   "metadata": {},
   "outputs": [
    {
     "data": {
      "text/plain": [
       "[1, 2, 3]"
      ]
     },
     "execution_count": 7,
     "metadata": {},
     "output_type": "execute_result"
    }
   ],
   "source": [
    "lst3"
   ]
  },
  {
   "cell_type": "code",
   "execution_count": 8,
   "id": "5dff417b",
   "metadata": {},
   "outputs": [],
   "source": [
    "lst4 = list('123')"
   ]
  },
  {
   "cell_type": "code",
   "execution_count": 9,
   "id": "ea32a639",
   "metadata": {},
   "outputs": [
    {
     "data": {
      "text/plain": [
       "['1', '2', '3']"
      ]
     },
     "execution_count": 9,
     "metadata": {},
     "output_type": "execute_result"
    }
   ],
   "source": [
    "lst4"
   ]
  },
  {
   "cell_type": "code",
   "execution_count": 10,
   "id": "989197e2",
   "metadata": {},
   "outputs": [
    {
     "data": {
      "text/plain": [
       "0"
      ]
     },
     "execution_count": 10,
     "metadata": {},
     "output_type": "execute_result"
    }
   ],
   "source": [
    "lst5 = []\n",
    "len(lst5) # len é o comando usado para saber o tamanho da lista"
   ]
  },
  {
   "cell_type": "code",
   "execution_count": 11,
   "id": "24405201",
   "metadata": {},
   "outputs": [
    {
     "data": {
      "text/plain": [
       "3"
      ]
     },
     "execution_count": 11,
     "metadata": {},
     "output_type": "execute_result"
    }
   ],
   "source": [
    "len(lst4)"
   ]
  },
  {
   "cell_type": "markdown",
   "id": "64a0f3dc",
   "metadata": {},
   "source": [
    "### Usando o Loop For para criar uma lista"
   ]
  },
  {
   "cell_type": "code",
   "execution_count": 12,
   "id": "83aa3c39",
   "metadata": {},
   "outputs": [
    {
     "name": "stdout",
     "output_type": "stream",
     "text": [
      "0\n",
      "[]\n",
      "1\n",
      "[1]\n",
      "2\n",
      "[1, 2]\n",
      "3\n",
      "[1, 2, 3]\n"
     ]
    }
   ],
   "source": [
    "for elemento in range(4): # para cada elemento no comprimento maximo de 4 indices\n",
    "    print(elemento)       # mostre o elemento na tela\n",
    "    if elemento != 0:     # se o elemento for diferente de zero\n",
    "        lst5.append(elemento)  # adicione o elemento na lista chamada lst5\n",
    "    print(lst5)    # mostre a lista sendo criada na tela.            "
   ]
  },
  {
   "cell_type": "code",
   "execution_count": 13,
   "id": "36e16b7d",
   "metadata": {},
   "outputs": [
    {
     "data": {
      "text/plain": [
       "[1, 2, 3]"
      ]
     },
     "execution_count": 13,
     "metadata": {},
     "output_type": "execute_result"
    }
   ],
   "source": [
    "lst5"
   ]
  },
  {
   "cell_type": "markdown",
   "id": "b23d07a0",
   "metadata": {},
   "source": [
    "### Acessando valores de uma lista"
   ]
  },
  {
   "cell_type": "markdown",
   "id": "0210ca81",
   "metadata": {},
   "source": [
    "#### Para acessar um valor específico dentro de uma lista utilizamos os indices ou posições correspondentes de cada elemento, passados dentro de chaves.\n",
    "\n",
    "### Exemplo: lst = [ 1, 2, 3, 4, 5]\n",
    "\n",
    "posição = indices = 0, 1, 2, 3, 4  ou seja, numa lista de 5 elementos possui 4 posições."
   ]
  },
  {
   "cell_type": "code",
   "execution_count": 14,
   "id": "9b3a3b79",
   "metadata": {},
   "outputs": [
    {
     "data": {
      "text/plain": [
       "[1, 2, 3]"
      ]
     },
     "execution_count": 14,
     "metadata": {},
     "output_type": "execute_result"
    }
   ],
   "source": [
    "lst5"
   ]
  },
  {
   "cell_type": "code",
   "execution_count": 15,
   "id": "ecf08ce2",
   "metadata": {},
   "outputs": [
    {
     "data": {
      "text/plain": [
       "3"
      ]
     },
     "execution_count": 15,
     "metadata": {},
     "output_type": "execute_result"
    }
   ],
   "source": [
    "lst5[2]"
   ]
  },
  {
   "cell_type": "code",
   "execution_count": 16,
   "id": "582480c2",
   "metadata": {},
   "outputs": [
    {
     "data": {
      "text/plain": [
       "1"
      ]
     },
     "execution_count": 16,
     "metadata": {},
     "output_type": "execute_result"
    }
   ],
   "source": [
    "lst5[0]"
   ]
  },
  {
   "cell_type": "markdown",
   "id": "2439e8f6",
   "metadata": {},
   "source": [
    "### Métodos"
   ]
  },
  {
   "cell_type": "markdown",
   "id": "ff7d8339",
   "metadata": {},
   "source": [
    "#### Os métodos são comando utlizados para alterar e atualizar, são utilizados vários metodos para saber quais metodos disponiveis basta clicar a tecla TAB, logo apos o ponto depois da lista, como o exemplo a seguir:"
   ]
  },
  {
   "cell_type": "code",
   "execution_count": 17,
   "id": "24f5183b",
   "metadata": {},
   "outputs": [
    {
     "data": {
      "text/plain": [
       "[1, 2, 3]"
      ]
     },
     "execution_count": 17,
     "metadata": {},
     "output_type": "execute_result"
    }
   ],
   "source": [
    "lst5"
   ]
  },
  {
   "cell_type": "code",
   "execution_count": 18,
   "id": "2e69c755",
   "metadata": {},
   "outputs": [
    {
     "data": {
      "text/plain": [
       "3"
      ]
     },
     "execution_count": 18,
     "metadata": {},
     "output_type": "execute_result"
    }
   ],
   "source": [
    "lst5.pop() # pop é o metodo que retira elementos de uma lista, acaso não passe nenhuma posição dentro dos parenteses o comando vai tirar o ultimo elemento da lista."
   ]
  },
  {
   "cell_type": "code",
   "execution_count": 19,
   "id": "4dfef117",
   "metadata": {},
   "outputs": [
    {
     "data": {
      "text/plain": [
       "[1, 2]"
      ]
     },
     "execution_count": 19,
     "metadata": {},
     "output_type": "execute_result"
    }
   ],
   "source": [
    "lst5"
   ]
  },
  {
   "cell_type": "code",
   "execution_count": 20,
   "id": "50014e1a",
   "metadata": {},
   "outputs": [
    {
     "data": {
      "text/plain": [
       "['1', '2', '3']"
      ]
     },
     "execution_count": 20,
     "metadata": {},
     "output_type": "execute_result"
    }
   ],
   "source": [
    "lst4"
   ]
  },
  {
   "cell_type": "code",
   "execution_count": 21,
   "id": "c33ed21a",
   "metadata": {},
   "outputs": [],
   "source": [
    "lst4.remove('2') # remove é o metodo que remove elementos especificos dentro de uma lista mesmo se o elemento não aparecer."
   ]
  },
  {
   "cell_type": "code",
   "execution_count": 22,
   "id": "f8542dcd",
   "metadata": {},
   "outputs": [
    {
     "data": {
      "text/plain": [
       "['1', '3']"
      ]
     },
     "execution_count": 22,
     "metadata": {},
     "output_type": "execute_result"
    }
   ],
   "source": [
    "lst4"
   ]
  },
  {
   "cell_type": "code",
   "execution_count": 23,
   "id": "ddc429f8",
   "metadata": {},
   "outputs": [],
   "source": [
    "lst7 = [3, 9, 1, 0, 3, 10, 4, 6]"
   ]
  },
  {
   "cell_type": "code",
   "execution_count": 24,
   "id": "45bf7438",
   "metadata": {},
   "outputs": [
    {
     "data": {
      "text/plain": [
       "[3, 9, 1, 0, 3, 10, 4, 6]"
      ]
     },
     "execution_count": 24,
     "metadata": {},
     "output_type": "execute_result"
    }
   ],
   "source": [
    "lst7"
   ]
  },
  {
   "cell_type": "code",
   "execution_count": 25,
   "id": "294e92fa",
   "metadata": {},
   "outputs": [],
   "source": [
    "lst7.sort() # sort é um metodo que ordena os dados de forma padrao crescente"
   ]
  },
  {
   "cell_type": "code",
   "execution_count": 26,
   "id": "f949267c",
   "metadata": {},
   "outputs": [
    {
     "data": {
      "text/plain": [
       "[0, 1, 3, 3, 4, 6, 9, 10]"
      ]
     },
     "execution_count": 26,
     "metadata": {},
     "output_type": "execute_result"
    }
   ],
   "source": [
    "lst7"
   ]
  },
  {
   "cell_type": "code",
   "execution_count": 27,
   "id": "fe3877c0",
   "metadata": {},
   "outputs": [],
   "source": [
    "lst7.sort(reverse=True)"
   ]
  },
  {
   "cell_type": "code",
   "execution_count": 28,
   "id": "303c6db9",
   "metadata": {},
   "outputs": [
    {
     "data": {
      "text/plain": [
       "[10, 9, 6, 4, 3, 3, 1, 0]"
      ]
     },
     "execution_count": 28,
     "metadata": {},
     "output_type": "execute_result"
    }
   ],
   "source": [
    "lst7"
   ]
  },
  {
   "cell_type": "code",
   "execution_count": 29,
   "id": "4c4fd2d1",
   "metadata": {},
   "outputs": [
    {
     "data": {
      "text/plain": [
       "4"
      ]
     },
     "execution_count": 29,
     "metadata": {},
     "output_type": "execute_result"
    }
   ],
   "source": [
    "lst7.index(3) # index é usado para saber qual o dado ou elemento correspondente a posição 3 na lista lst7"
   ]
  },
  {
   "cell_type": "code",
   "execution_count": 30,
   "id": "ee4cbdcd",
   "metadata": {},
   "outputs": [
    {
     "data": {
      "text/plain": [
       "2"
      ]
     },
     "execution_count": 30,
     "metadata": {},
     "output_type": "execute_result"
    }
   ],
   "source": [
    "lst7.count(3) # count é um metodo utilizado para contar a quantidade de vezes que um elemento se repete na lista"
   ]
  },
  {
   "cell_type": "code",
   "execution_count": 31,
   "id": "3b779810",
   "metadata": {},
   "outputs": [
    {
     "data": {
      "text/plain": [
       "1"
      ]
     },
     "execution_count": 31,
     "metadata": {},
     "output_type": "execute_result"
    }
   ],
   "source": [
    "lst7.count(0)"
   ]
  },
  {
   "cell_type": "code",
   "execution_count": null,
   "id": "01a1453c",
   "metadata": {},
   "outputs": [],
   "source": []
  }
 ],
 "metadata": {
  "kernelspec": {
   "display_name": "Python 3 (ipykernel)",
   "language": "python",
   "name": "python3"
  },
  "language_info": {
   "codemirror_mode": {
    "name": "ipython",
    "version": 3
   },
   "file_extension": ".py",
   "mimetype": "text/x-python",
   "name": "python",
   "nbconvert_exporter": "python",
   "pygments_lexer": "ipython3",
   "version": "3.9.12"
  }
 },
 "nbformat": 4,
 "nbformat_minor": 5
}
